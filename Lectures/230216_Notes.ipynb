{
 "cells": [
  {
   "cell_type": "markdown",
   "id": "04550456",
   "metadata": {},
   "source": [
    "## Accuracy of a Classification Model\n",
    "\n",
    "Accuracy = # of correct classifications/ total number\n",
    "\n",
    "Precision = True positives / (True positives + False Positives)\n",
    "\n",
    "Recall = True positives / (True positives + False Negatives)\n",
    "- What proportion of a particular class are correclty identified\n",
    "\n",
    "Confusion matrix: \n",
    "![Alt text](https://miro.medium.com/v2/resize:fit:1400/format:webp/1*fxiTNIgOyvAombPJx5KGeA.png)"
   ]
  },
  {
   "cell_type": "markdown",
   "id": "db79268b",
   "metadata": {},
   "source": [
    "F1 score: an amalgum (?) of precision and recall\n",
    "\n",
    "F1 score = 2 * ( (Precision * Recall) / (Precision + Recall) )\n",
    "   - from 0-1, best at precision and recall are both 1"
   ]
  }
 ],
 "metadata": {
  "kernelspec": {
   "display_name": "Python 3 (ipykernel)",
   "language": "python",
   "name": "python3"
  },
  "language_info": {
   "codemirror_mode": {
    "name": "ipython",
    "version": 3
   },
   "file_extension": ".py",
   "mimetype": "text/x-python",
   "name": "python",
   "nbconvert_exporter": "python",
   "pygments_lexer": "ipython3",
   "version": "3.9.7"
  }
 },
 "nbformat": 4,
 "nbformat_minor": 5
}
