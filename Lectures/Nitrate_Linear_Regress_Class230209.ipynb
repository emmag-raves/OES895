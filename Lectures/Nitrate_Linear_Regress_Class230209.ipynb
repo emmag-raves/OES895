{
 "cells": [
  {
   "cell_type": "code",
   "execution_count": 1,
   "id": "2d24815b",
   "metadata": {},
   "outputs": [],
   "source": [
    "# Import packages\n",
    "import pandas as pd\n",
    "import numpy as np\n",
    "import matplotlib.pyplot as plt"
   ]
  },
  {
   "cell_type": "code",
   "execution_count": 3,
   "id": "2ec4bb1f",
   "metadata": {},
   "outputs": [
    {
     "data": {
      "text/plain": [
       "Index(['Unnamed: 0', 'theta', 'sal', 'depth', 'nitrate', 'lon', 'lat', 'date',\n",
       "       'year', 'month', 'day', 'profile', 'cruise', 'vessel', 'density'],\n",
       "      dtype='object')"
      ]
     },
     "execution_count": 3,
     "metadata": {},
     "output_type": "execute_result"
    }
   ],
   "source": [
    "# Import data and take a very quick look at it\n",
    "data = pd.read_csv(\"./Data/jma_nitrate.csv\")\n",
    "data.columns"
   ]
  },
  {
   "cell_type": "code",
   "execution_count": 5,
   "id": "d01f7d31",
   "metadata": {},
   "outputs": [
    {
     "name": "stdout",
     "output_type": "stream",
     "text": [
      "<class 'pandas.core.frame.DataFrame'>\n",
      "RangeIndex: 16221 entries, 0 to 16220\n",
      "Data columns (total 15 columns):\n",
      " #   Column      Non-Null Count  Dtype  \n",
      "---  ------      --------------  -----  \n",
      " 0   Unnamed: 0  16221 non-null  int64  \n",
      " 1   theta       16221 non-null  float64\n",
      " 2   sal         16221 non-null  float64\n",
      " 3   depth       16221 non-null  int64  \n",
      " 4   nitrate     16221 non-null  float64\n",
      " 5   lon         16221 non-null  float64\n",
      " 6   lat         16221 non-null  float64\n",
      " 7   date        16221 non-null  object \n",
      " 8   year        16221 non-null  float64\n",
      " 9   month       16221 non-null  float64\n",
      " 10  day         16221 non-null  float64\n",
      " 11  profile     16221 non-null  float64\n",
      " 12  cruise      16221 non-null  object \n",
      " 13  vessel      16221 non-null  object \n",
      " 14  density     16221 non-null  float64\n",
      "dtypes: float64(10), int64(2), object(3)\n",
      "memory usage: 1.9+ MB\n"
     ]
    }
   ],
   "source": [
    "data.info()"
   ]
  },
  {
   "cell_type": "code",
   "execution_count": 6,
   "id": "742e71db",
   "metadata": {},
   "outputs": [
    {
     "data": {
      "text/html": [
       "<div>\n",
       "<style scoped>\n",
       "    .dataframe tbody tr th:only-of-type {\n",
       "        vertical-align: middle;\n",
       "    }\n",
       "\n",
       "    .dataframe tbody tr th {\n",
       "        vertical-align: top;\n",
       "    }\n",
       "\n",
       "    .dataframe thead th {\n",
       "        text-align: right;\n",
       "    }\n",
       "</style>\n",
       "<table border=\"1\" class=\"dataframe\">\n",
       "  <thead>\n",
       "    <tr style=\"text-align: right;\">\n",
       "      <th></th>\n",
       "      <th>Unnamed: 0</th>\n",
       "      <th>theta</th>\n",
       "      <th>sal</th>\n",
       "      <th>depth</th>\n",
       "      <th>nitrate</th>\n",
       "      <th>lon</th>\n",
       "      <th>lat</th>\n",
       "      <th>year</th>\n",
       "      <th>month</th>\n",
       "      <th>day</th>\n",
       "      <th>profile</th>\n",
       "      <th>density</th>\n",
       "    </tr>\n",
       "  </thead>\n",
       "  <tbody>\n",
       "    <tr>\n",
       "      <th>count</th>\n",
       "      <td>16221.000000</td>\n",
       "      <td>16221.000000</td>\n",
       "      <td>16221.000000</td>\n",
       "      <td>16221.000000</td>\n",
       "      <td>16221.000000</td>\n",
       "      <td>16221.000000</td>\n",
       "      <td>16221.000000</td>\n",
       "      <td>16221.000000</td>\n",
       "      <td>16221.000000</td>\n",
       "      <td>16221.000000</td>\n",
       "      <td>16221.000000</td>\n",
       "      <td>16221.000000</td>\n",
       "    </tr>\n",
       "    <tr>\n",
       "      <th>mean</th>\n",
       "      <td>8110.000000</td>\n",
       "      <td>7.607946</td>\n",
       "      <td>34.435495</td>\n",
       "      <td>1367.990136</td>\n",
       "      <td>20.610818</td>\n",
       "      <td>151.598860</td>\n",
       "      <td>32.558215</td>\n",
       "      <td>2012.292954</td>\n",
       "      <td>6.884964</td>\n",
       "      <td>13.473399</td>\n",
       "      <td>266.572591</td>\n",
       "      <td>26.461316</td>\n",
       "    </tr>\n",
       "    <tr>\n",
       "      <th>std</th>\n",
       "      <td>4682.743694</td>\n",
       "      <td>7.618493</td>\n",
       "      <td>0.361891</td>\n",
       "      <td>1522.923213</td>\n",
       "      <td>75.274068</td>\n",
       "      <td>9.713532</td>\n",
       "      <td>9.078474</td>\n",
       "      <td>1.685250</td>\n",
       "      <td>2.660361</td>\n",
       "      <td>8.713440</td>\n",
       "      <td>148.909600</td>\n",
       "      <td>1.353231</td>\n",
       "    </tr>\n",
       "    <tr>\n",
       "      <th>min</th>\n",
       "      <td>0.000000</td>\n",
       "      <td>0.034400</td>\n",
       "      <td>32.349200</td>\n",
       "      <td>0.000000</td>\n",
       "      <td>-999.000000</td>\n",
       "      <td>133.990833</td>\n",
       "      <td>0.332167</td>\n",
       "      <td>2010.000000</td>\n",
       "      <td>2.000000</td>\n",
       "      <td>1.000000</td>\n",
       "      <td>1.000000</td>\n",
       "      <td>20.951302</td>\n",
       "    </tr>\n",
       "    <tr>\n",
       "      <th>25%</th>\n",
       "      <td>4055.000000</td>\n",
       "      <td>1.654400</td>\n",
       "      <td>34.240900</td>\n",
       "      <td>200.000000</td>\n",
       "      <td>8.300000</td>\n",
       "      <td>145.727833</td>\n",
       "      <td>30.002000</td>\n",
       "      <td>2011.000000</td>\n",
       "      <td>5.000000</td>\n",
       "      <td>6.000000</td>\n",
       "      <td>137.000000</td>\n",
       "      <td>25.605284</td>\n",
       "    </tr>\n",
       "    <tr>\n",
       "      <th>50%</th>\n",
       "      <td>8110.000000</td>\n",
       "      <td>3.689800</td>\n",
       "      <td>34.552900</td>\n",
       "      <td>800.000000</td>\n",
       "      <td>35.070000</td>\n",
       "      <td>148.145833</td>\n",
       "      <td>34.230000</td>\n",
       "      <td>2012.000000</td>\n",
       "      <td>7.000000</td>\n",
       "      <td>12.000000</td>\n",
       "      <td>271.000000</td>\n",
       "      <td>27.041943</td>\n",
       "    </tr>\n",
       "    <tr>\n",
       "      <th>75%</th>\n",
       "      <td>12165.000000</td>\n",
       "      <td>14.153300</td>\n",
       "      <td>34.683200</td>\n",
       "      <td>2001.000000</td>\n",
       "      <td>39.590000</td>\n",
       "      <td>164.231000</td>\n",
       "      <td>39.503333</td>\n",
       "      <td>2013.000000</td>\n",
       "      <td>9.000000</td>\n",
       "      <td>20.000000</td>\n",
       "      <td>393.000000</td>\n",
       "      <td>27.517416</td>\n",
       "    </tr>\n",
       "    <tr>\n",
       "      <th>max</th>\n",
       "      <td>16220.000000</td>\n",
       "      <td>29.923300</td>\n",
       "      <td>35.548100</td>\n",
       "      <td>6161.000000</td>\n",
       "      <td>45.330000</td>\n",
       "      <td>170.035167</td>\n",
       "      <td>49.991500</td>\n",
       "      <td>2016.000000</td>\n",
       "      <td>12.000000</td>\n",
       "      <td>31.000000</td>\n",
       "      <td>529.000000</td>\n",
       "      <td>27.681606</td>\n",
       "    </tr>\n",
       "  </tbody>\n",
       "</table>\n",
       "</div>"
      ],
      "text/plain": [
       "         Unnamed: 0         theta           sal         depth       nitrate  \\\n",
       "count  16221.000000  16221.000000  16221.000000  16221.000000  16221.000000   \n",
       "mean    8110.000000      7.607946     34.435495   1367.990136     20.610818   \n",
       "std     4682.743694      7.618493      0.361891   1522.923213     75.274068   \n",
       "min        0.000000      0.034400     32.349200      0.000000   -999.000000   \n",
       "25%     4055.000000      1.654400     34.240900    200.000000      8.300000   \n",
       "50%     8110.000000      3.689800     34.552900    800.000000     35.070000   \n",
       "75%    12165.000000     14.153300     34.683200   2001.000000     39.590000   \n",
       "max    16220.000000     29.923300     35.548100   6161.000000     45.330000   \n",
       "\n",
       "                lon           lat          year         month           day  \\\n",
       "count  16221.000000  16221.000000  16221.000000  16221.000000  16221.000000   \n",
       "mean     151.598860     32.558215   2012.292954      6.884964     13.473399   \n",
       "std        9.713532      9.078474      1.685250      2.660361      8.713440   \n",
       "min      133.990833      0.332167   2010.000000      2.000000      1.000000   \n",
       "25%      145.727833     30.002000   2011.000000      5.000000      6.000000   \n",
       "50%      148.145833     34.230000   2012.000000      7.000000     12.000000   \n",
       "75%      164.231000     39.503333   2013.000000      9.000000     20.000000   \n",
       "max      170.035167     49.991500   2016.000000     12.000000     31.000000   \n",
       "\n",
       "            profile       density  \n",
       "count  16221.000000  16221.000000  \n",
       "mean     266.572591     26.461316  \n",
       "std      148.909600      1.353231  \n",
       "min        1.000000     20.951302  \n",
       "25%      137.000000     25.605284  \n",
       "50%      271.000000     27.041943  \n",
       "75%      393.000000     27.517416  \n",
       "max      529.000000     27.681606  "
      ]
     },
     "execution_count": 6,
     "metadata": {},
     "output_type": "execute_result"
    }
   ],
   "source": [
    "data.describe()"
   ]
  },
  {
   "cell_type": "code",
   "execution_count": 7,
   "id": "a9a64b60",
   "metadata": {},
   "outputs": [],
   "source": [
    "# Since we have a NaN value for nitrate (-999) we need to get rid of that\n",
    "data = data[data['nitrate']>0]"
   ]
  },
  {
   "cell_type": "code",
   "execution_count": 8,
   "id": "a337bcd0",
   "metadata": {},
   "outputs": [
    {
     "data": {
      "text/html": [
       "<div>\n",
       "<style scoped>\n",
       "    .dataframe tbody tr th:only-of-type {\n",
       "        vertical-align: middle;\n",
       "    }\n",
       "\n",
       "    .dataframe tbody tr th {\n",
       "        vertical-align: top;\n",
       "    }\n",
       "\n",
       "    .dataframe thead th {\n",
       "        text-align: right;\n",
       "    }\n",
       "</style>\n",
       "<table border=\"1\" class=\"dataframe\">\n",
       "  <thead>\n",
       "    <tr style=\"text-align: right;\">\n",
       "      <th></th>\n",
       "      <th>Unnamed: 0</th>\n",
       "      <th>theta</th>\n",
       "      <th>sal</th>\n",
       "      <th>depth</th>\n",
       "      <th>nitrate</th>\n",
       "      <th>lon</th>\n",
       "      <th>lat</th>\n",
       "      <th>year</th>\n",
       "      <th>month</th>\n",
       "      <th>day</th>\n",
       "      <th>profile</th>\n",
       "      <th>density</th>\n",
       "    </tr>\n",
       "  </thead>\n",
       "  <tbody>\n",
       "    <tr>\n",
       "      <th>count</th>\n",
       "      <td>15574.000000</td>\n",
       "      <td>15574.000000</td>\n",
       "      <td>15574.000000</td>\n",
       "      <td>15574.000000</td>\n",
       "      <td>15574.000000</td>\n",
       "      <td>15574.000000</td>\n",
       "      <td>15574.000000</td>\n",
       "      <td>15574.000000</td>\n",
       "      <td>15574.000000</td>\n",
       "      <td>15574.000000</td>\n",
       "      <td>15574.000000</td>\n",
       "      <td>15574.000000</td>\n",
       "    </tr>\n",
       "    <tr>\n",
       "      <th>mean</th>\n",
       "      <td>8175.135932</td>\n",
       "      <td>7.042844</td>\n",
       "      <td>34.433404</td>\n",
       "      <td>1418.388211</td>\n",
       "      <td>26.855277</td>\n",
       "      <td>151.599624</td>\n",
       "      <td>32.696928</td>\n",
       "      <td>2012.313664</td>\n",
       "      <td>6.851034</td>\n",
       "      <td>13.509375</td>\n",
       "      <td>268.636766</td>\n",
       "      <td>26.574613</td>\n",
       "    </tr>\n",
       "    <tr>\n",
       "      <th>std</th>\n",
       "      <td>4675.484666</td>\n",
       "      <td>7.113994</td>\n",
       "      <td>0.354281</td>\n",
       "      <td>1528.846644</td>\n",
       "      <td>15.480812</td>\n",
       "      <td>9.692016</td>\n",
       "      <td>8.979100</td>\n",
       "      <td>1.684952</td>\n",
       "      <td>2.660677</td>\n",
       "      <td>8.723439</td>\n",
       "      <td>148.651926</td>\n",
       "      <td>1.221275</td>\n",
       "    </tr>\n",
       "    <tr>\n",
       "      <th>min</th>\n",
       "      <td>0.000000</td>\n",
       "      <td>0.034400</td>\n",
       "      <td>32.349200</td>\n",
       "      <td>0.000000</td>\n",
       "      <td>0.010000</td>\n",
       "      <td>133.990833</td>\n",
       "      <td>0.332167</td>\n",
       "      <td>2010.000000</td>\n",
       "      <td>2.000000</td>\n",
       "      <td>1.000000</td>\n",
       "      <td>1.000000</td>\n",
       "      <td>20.951302</td>\n",
       "    </tr>\n",
       "    <tr>\n",
       "      <th>25%</th>\n",
       "      <td>4105.250000</td>\n",
       "      <td>1.589650</td>\n",
       "      <td>34.240600</td>\n",
       "      <td>203.000000</td>\n",
       "      <td>11.250000</td>\n",
       "      <td>145.727833</td>\n",
       "      <td>30.003333</td>\n",
       "      <td>2011.000000</td>\n",
       "      <td>5.000000</td>\n",
       "      <td>6.000000</td>\n",
       "      <td>139.000000</td>\n",
       "      <td>25.882225</td>\n",
       "    </tr>\n",
       "    <tr>\n",
       "      <th>50%</th>\n",
       "      <td>8228.500000</td>\n",
       "      <td>3.418650</td>\n",
       "      <td>34.550800</td>\n",
       "      <td>803.000000</td>\n",
       "      <td>35.350000</td>\n",
       "      <td>148.149667</td>\n",
       "      <td>34.239500</td>\n",
       "      <td>2012.000000</td>\n",
       "      <td>7.000000</td>\n",
       "      <td>12.000000</td>\n",
       "      <td>275.000000</td>\n",
       "      <td>27.094050</td>\n",
       "    </tr>\n",
       "    <tr>\n",
       "      <th>75%</th>\n",
       "      <td>12223.750000</td>\n",
       "      <td>12.294850</td>\n",
       "      <td>34.681800</td>\n",
       "      <td>2002.000000</td>\n",
       "      <td>39.797500</td>\n",
       "      <td>164.231000</td>\n",
       "      <td>39.660833</td>\n",
       "      <td>2013.000000</td>\n",
       "      <td>9.000000</td>\n",
       "      <td>20.000000</td>\n",
       "      <td>394.000000</td>\n",
       "      <td>27.527512</td>\n",
       "    </tr>\n",
       "    <tr>\n",
       "      <th>max</th>\n",
       "      <td>16220.000000</td>\n",
       "      <td>29.923300</td>\n",
       "      <td>35.548100</td>\n",
       "      <td>6161.000000</td>\n",
       "      <td>45.330000</td>\n",
       "      <td>170.035167</td>\n",
       "      <td>49.991500</td>\n",
       "      <td>2016.000000</td>\n",
       "      <td>12.000000</td>\n",
       "      <td>31.000000</td>\n",
       "      <td>529.000000</td>\n",
       "      <td>27.681606</td>\n",
       "    </tr>\n",
       "  </tbody>\n",
       "</table>\n",
       "</div>"
      ],
      "text/plain": [
       "         Unnamed: 0         theta           sal         depth       nitrate  \\\n",
       "count  15574.000000  15574.000000  15574.000000  15574.000000  15574.000000   \n",
       "mean    8175.135932      7.042844     34.433404   1418.388211     26.855277   \n",
       "std     4675.484666      7.113994      0.354281   1528.846644     15.480812   \n",
       "min        0.000000      0.034400     32.349200      0.000000      0.010000   \n",
       "25%     4105.250000      1.589650     34.240600    203.000000     11.250000   \n",
       "50%     8228.500000      3.418650     34.550800    803.000000     35.350000   \n",
       "75%    12223.750000     12.294850     34.681800   2002.000000     39.797500   \n",
       "max    16220.000000     29.923300     35.548100   6161.000000     45.330000   \n",
       "\n",
       "                lon           lat          year         month           day  \\\n",
       "count  15574.000000  15574.000000  15574.000000  15574.000000  15574.000000   \n",
       "mean     151.599624     32.696928   2012.313664      6.851034     13.509375   \n",
       "std        9.692016      8.979100      1.684952      2.660677      8.723439   \n",
       "min      133.990833      0.332167   2010.000000      2.000000      1.000000   \n",
       "25%      145.727833     30.003333   2011.000000      5.000000      6.000000   \n",
       "50%      148.149667     34.239500   2012.000000      7.000000     12.000000   \n",
       "75%      164.231000     39.660833   2013.000000      9.000000     20.000000   \n",
       "max      170.035167     49.991500   2016.000000     12.000000     31.000000   \n",
       "\n",
       "            profile       density  \n",
       "count  15574.000000  15574.000000  \n",
       "mean     268.636766     26.574613  \n",
       "std      148.651926      1.221275  \n",
       "min        1.000000     20.951302  \n",
       "25%      139.000000     25.882225  \n",
       "50%      275.000000     27.094050  \n",
       "75%      394.000000     27.527512  \n",
       "max      529.000000     27.681606  "
      ]
     },
     "execution_count": 8,
     "metadata": {},
     "output_type": "execute_result"
    }
   ],
   "source": [
    "data.describe()"
   ]
  },
  {
   "cell_type": "code",
   "execution_count": 20,
   "id": "d1fb21b9",
   "metadata": {},
   "outputs": [
    {
     "data": {
      "text/plain": [
       "[<matplotlib.lines.Line2D at 0x7f7cc01dd0c0>]"
      ]
     },
     "execution_count": 20,
     "metadata": {},
     "output_type": "execute_result"
    },
    {
     "data": {
      "image/png": "[encoded data removed]",
      "text/plain": [
       "<Figure size 640x480 with 1 Axes>"
      ]
     },
     "metadata": {},
     "output_type": "display_data"
    }
   ],
   "source": [
    "plt.plot(data.depth, data.nitrate, 'o')\n",
    "# you could also use\n",
    "# plt.scatter(data.density, data.nitrate)"
   ]
  },
  {
   "cell_type": "code",
   "execution_count": 21,
   "id": "46f42e47",
   "metadata": {},
   "outputs": [],
   "source": [
    "from sklearn import linear_model\n",
    "from sklearn.metrics import mean_squared_error, r2_score"
   ]
  },
  {
   "cell_type": "code",
   "execution_count": 22,
   "id": "4230060d",
   "metadata": {},
   "outputs": [],
   "source": [
    "# Make the data split\n",
    "y = data.nitrate\n",
    "X = data[['density']]\n",
    "\n",
    "from sklearn.model_selection import train_test_split\n",
    "X_train,X_test,y_train,y_test = train_test_split(X,y,test_size=0.2,random_state=4)\n",
    "# test size is the percentage of test points you want, random state is the \"seed\" number so people can reproduce what you have done"
   ]
  },
  {
   "cell_type": "code",
   "execution_count": 24,
   "id": "e480b22a",
   "metadata": {},
   "outputs": [
    {
     "data": {
      "text/plain": [
       "3115"
      ]
     },
     "execution_count": 24,
     "metadata": {},
     "output_type": "execute_result"
    }
   ],
   "source": [
    "# just to look and check them\n",
    "len(X_test)"
   ]
  },
  {
   "cell_type": "code",
   "execution_count": 25,
   "id": "b2551dd3",
   "metadata": {},
   "outputs": [
    {
     "data": {
      "text/html": [
       "<style>#sk-container-id-1 {color: black;background-color: white;}#sk-container-id-1 pre{padding: 0;}#sk-container-id-1 div.sk-toggleable {background-color: white;}#sk-container-id-1 label.sk-toggleable__label {cursor: pointer;display: block;width: 100%;margin-bottom: 0;padding: 0.3em;box-sizing: border-box;text-align: center;}#sk-container-id-1 label.sk-toggleable__label-arrow:before {content: \"▸\";float: left;margin-right: 0.25em;color: #696969;}#sk-container-id-1 label.sk-toggleable__label-arrow:hover:before {color: black;}#sk-container-id-1 div.sk-estimator:hover label.sk-toggleable__label-arrow:before {color: black;}#sk-container-id-1 div.sk-toggleable__content {max-height: 0;max-width: 0;overflow: hidden;text-align: left;background-color: #f0f8ff;}#sk-container-id-1 div.sk-toggleable__content pre {margin: 0.2em;color: black;border-radius: 0.25em;background-color: #f0f8ff;}#sk-container-id-1 input.sk-toggleable__control:checked~div.sk-toggleable__content {max-height: 200px;max-width: 100%;overflow: auto;}#sk-container-id-1 input.sk-toggleable__control:checked~label.sk-toggleable__label-arrow:before {content: \"▾\";}#sk-container-id-1 div.sk-estimator input.sk-toggleable__control:checked~label.sk-toggleable__label {background-color: #d4ebff;}#sk-container-id-1 div.sk-label input.sk-toggleable__control:checked~label.sk-toggleable__label {background-color: #d4ebff;}#sk-container-id-1 input.sk-hidden--visually {border: 0;clip: rect(1px 1px 1px 1px);clip: rect(1px, 1px, 1px, 1px);height: 1px;margin: -1px;overflow: hidden;padding: 0;position: absolute;width: 1px;}#sk-container-id-1 div.sk-estimator {font-family: monospace;background-color: #f0f8ff;border: 1px dotted black;border-radius: 0.25em;box-sizing: border-box;margin-bottom: 0.5em;}#sk-container-id-1 div.sk-estimator:hover {background-color: #d4ebff;}#sk-container-id-1 div.sk-parallel-item::after {content: \"\";width: 100%;border-bottom: 1px solid gray;flex-grow: 1;}#sk-container-id-1 div.sk-label:hover label.sk-toggleable__label {background-color: #d4ebff;}#sk-container-id-1 div.sk-serial::before {content: \"\";position: absolute;border-left: 1px solid gray;box-sizing: border-box;top: 0;bottom: 0;left: 50%;z-index: 0;}#sk-container-id-1 div.sk-serial {display: flex;flex-direction: column;align-items: center;background-color: white;padding-right: 0.2em;padding-left: 0.2em;position: relative;}#sk-container-id-1 div.sk-item {position: relative;z-index: 1;}#sk-container-id-1 div.sk-parallel {display: flex;align-items: stretch;justify-content: center;background-color: white;position: relative;}#sk-container-id-1 div.sk-item::before, #sk-container-id-1 div.sk-parallel-item::before {content: \"\";position: absolute;border-left: 1px solid gray;box-sizing: border-box;top: 0;bottom: 0;left: 50%;z-index: -1;}#sk-container-id-1 div.sk-parallel-item {display: flex;flex-direction: column;z-index: 1;position: relative;background-color: white;}#sk-container-id-1 div.sk-parallel-item:first-child::after {align-self: flex-end;width: 50%;}#sk-container-id-1 div.sk-parallel-item:last-child::after {align-self: flex-start;width: 50%;}#sk-container-id-1 div.sk-parallel-item:only-child::after {width: 0;}#sk-container-id-1 div.sk-dashed-wrapped {border: 1px dashed gray;margin: 0 0.4em 0.5em 0.4em;box-sizing: border-box;padding-bottom: 0.4em;background-color: white;}#sk-container-id-1 div.sk-label label {font-family: monospace;font-weight: bold;display: inline-block;line-height: 1.2em;}#sk-container-id-1 div.sk-label-container {text-align: center;}#sk-container-id-1 div.sk-container {/* jupyter's `normalize.less` sets `[hidden] { display: none; }` but bootstrap.min.css set `[hidden] { display: none !important; }` so we also need the `!important` here to be able to override the default hidden behavior on the sphinx rendered scikit-learn.org. See: https://github.com/scikit-learn/scikit-learn/issues/21755 */display: inline-block !important;position: relative;}#sk-container-id-1 div.sk-text-repr-fallback {display: none;}</style><div id=\"sk-container-id-1\" class=\"sk-top-container\"><div class=\"sk-text-repr-fallback\"><pre>LinearRegression()</pre><b>In a Jupyter environment, please rerun this cell to show the HTML representation or trust the notebook. <br />On GitHub, the HTML representation is unable to render, please try loading this page with nbviewer.org.</b></div><div class=\"sk-container\" hidden><div class=\"sk-item\"><div class=\"sk-estimator sk-toggleable\"><input class=\"sk-toggleable__control sk-hidden--visually\" id=\"sk-estimator-id-1\" type=\"checkbox\" checked><label for=\"sk-estimator-id-1\" class=\"sk-toggleable__label sk-toggleable__label-arrow\">LinearRegression</label><div class=\"sk-toggleable__content\"><pre>LinearRegression()</pre></div></div></div></div></div>"
      ],
      "text/plain": [
       "LinearRegression()"
      ]
     },
     "execution_count": 25,
     "metadata": {},
     "output_type": "execute_result"
    }
   ],
   "source": [
    "# Create linear regression object\n",
    "regr = linear_model.LinearRegression()\n",
    "\n",
    "# Train the model using the training sets (fit the model)\n",
    "regr.fit(X_train, y_train)"
   ]
  },
  {
   "cell_type": "code",
   "execution_count": 29,
   "id": "a932b99c",
   "metadata": {},
   "outputs": [
    {
     "data": {
      "text/plain": [
       "[<matplotlib.lines.Line2D at 0x7f7cadd9d3c0>]"
      ]
     },
     "execution_count": 29,
     "metadata": {},
     "output_type": "execute_result"
    },
    {
     "data": {
      "image/png": "[encoded data removed]",
      "text/plain": [
       "<Figure size 640x480 with 1 Axes>"
      ]
     },
     "metadata": {},
     "output_type": "display_data"
    }
   ],
   "source": [
    "# Make predictions using the testing set (use the fit to find a new prediction)\n",
    "y_pred = regr.predict(X_test)\n",
    "\n",
    "plt.plot(y_pred,y_test,'o')"
   ]
  },
  {
   "cell_type": "code",
   "execution_count": 31,
   "id": "60a8d221",
   "metadata": {},
   "outputs": [
    {
     "name": "stdout",
     "output_type": "stream",
     "text": [
      "r2 = 0.7951443371871293\n",
      "r2 = 0.803767871265734\n",
      "RMSE = 6.834989498285243\n"
     ]
    }
   ],
   "source": [
    "print('r2 =', r2_score(y_train, regr.predict(X_train)))\n",
    "print('r2 =', r2_score(y_test, y_pred))\n",
    "print('RMSE =',np.sqrt(mean_squared_error(y_test, y_pred)))\n",
    "# we want to minimize RMSE with our model (its how good our model is)"
   ]
  },
  {
   "cell_type": "code",
   "execution_count": 27,
   "id": "97419f8f",
   "metadata": {},
   "outputs": [
    {
     "data": {
      "image/png": "[encoded data removed]",
      "text/plain": [
       "<Figure size 640x480 with 1 Axes>"
      ]
     },
     "metadata": {},
     "output_type": "display_data"
    }
   ],
   "source": [
    "# Plot this to show the linear regression\n",
    "plt.plot(X_test, y_pred, 'xk', alpha = 0.8)\n",
    "plt.plot(X_train, y_train, 'or', zorder = 0)\n",
    "plt.show()"
   ]
  },
  {
   "cell_type": "code",
   "execution_count": null,
   "id": "ed1c3371",
   "metadata": {},
   "outputs": [],
   "source": []
  }
 ],
 "metadata": {
  "kernelspec": {
   "display_name": "Python 3 (ipykernel)",
   "language": "python",
   "name": "python3"
  },
  "language_info": {
   "codemirror_mode": {
    "name": "ipython",
    "version": 3
   },
   "file_extension": ".py",
   "mimetype": "text/x-python",
   "name": "python",
   "nbconvert_exporter": "python",
   "pygments_lexer": "ipython3",
   "version": "3.9.7"
  }
 },
 "nbformat": 4,
 "nbformat_minor": 5
}
