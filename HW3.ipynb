{
 "cells": [
  {
   "cell_type": "markdown",
   "id": "e51cc092",
   "metadata": {},
   "source": [
    "### Group: Emma and Frankie\n",
    "KNN Regression"
   ]
  },
  {
   "cell_type": "code",
   "execution_count": 13,
   "id": "538f092f",
   "metadata": {},
   "outputs": [],
   "source": [
    "# Import packages\n",
    "import pandas as pd\n",
    "import numpy as np\n",
    "import matplotlib.pyplot as plt"
   ]
  },
  {
   "cell_type": "code",
   "execution_count": 14,
   "id": "e48f8a79",
   "metadata": {},
   "outputs": [
    {
     "data": {
      "text/plain": [
       "Index(['Unnamed: 0', 'theta', 'sal', 'depth', 'nitrate', 'lon', 'lat', 'date',\n",
       "       'year', 'month', 'day', 'profile', 'cruise', 'vessel', 'density'],\n",
       "      dtype='object')"
      ]
     },
     "execution_count": 14,
     "metadata": {},
     "output_type": "execute_result"
    }
   ],
   "source": [
    "# Import data and take a very quick look at it\n",
    "jmadata = pd.read_csv(\"./Data/jma_nitrate.csv\")\n",
    "jmadata.columns"
   ]
  },
  {
   "cell_type": "code",
   "execution_count": 15,
   "id": "dc6ad983",
   "metadata": {},
   "outputs": [
    {
     "data": {
      "text/plain": [
       "Index(['Date/GMT', 'Days since 1/1/1900', 'DEPTH[M]', 'PRESSURE[DBAR]', 'NA',\n",
       "       'SALINITY[PSS]', 'TEMPERATURE[C]', 'SIGMATHETA[KG/M3]',\n",
       "       'OXYGEN[uMOL/KG]', 'OXYGENSAT', 'LON', 'LAT'],\n",
       "      dtype='object')"
      ]
     },
     "execution_count": 15,
     "metadata": {},
     "output_type": "execute_result"
    }
   ],
   "source": [
    "# Import Argo data without nitrate\n",
    "bgcdata = pd.read_csv('./Data/kuro_BGCargo_noNO3.csv')\n",
    "bgcdata.columns"
   ]
  },
  {
   "cell_type": "code",
   "execution_count": 16,
   "id": "86556418",
   "metadata": {},
   "outputs": [
    {
     "data": {
      "text/plain": [
       "Index(['Date/GMT', 'Days since 1/1/1900', 'NITRATE[uMOL/KG]', 'DEPTH[M]',\n",
       "       'PRESSURE[DBAR]', 'NA', 'SALINITY[PSS]', 'TEMPERATURE[C]',\n",
       "       'SIGMATHETA[KG/M3]', 'OXYGEN[uMOL/KG]', 'OXYGENSAT', 'LON', 'LAT'],\n",
       "      dtype='object')"
      ]
     },
     "execution_count": 16,
     "metadata": {},
     "output_type": "execute_result"
    }
   ],
   "source": [
    "# Import Argo nitrate data\n",
    "bgcno3data = pd.read_csv('./Data/kuro_BGCargo_NO3.csv')\n",
    "bgcno3data.columns"
   ]
  },
  {
   "cell_type": "markdown",
   "id": "34747c41",
   "metadata": {},
   "source": [
    "## Part 1 (20 points): EDA ## \n",
    "\n",
    "Before you apply your model, assess the level of overlap between the range of environmental conditions represented in the JMA and BGC Argo data sets.\n",
    "\n",
    "Compare the geographical extent, depth range, water masses, seasonal coverage and any other factors that you think could be pertinent between the two data sets.\n",
    "Describe similarities and highlight differences."
   ]
  },
  {
   "cell_type": "code",
   "execution_count": 17,
   "id": "dc7c3101",
   "metadata": {},
   "outputs": [],
   "source": [
    "# Since we have a NaN value for nitrate (-999) we need to get rid of that\n",
    "jmadata = jmadata[jmadata['nitrate']>0]"
   ]
  },
  {
   "cell_type": "code",
   "execution_count": 18,
   "id": "45daddc8",
   "metadata": {},
   "outputs": [
    {
     "data": {
      "text/html": [
       "<div>\n",
       "<style scoped>\n",
       "    .dataframe tbody tr th:only-of-type {\n",
       "        vertical-align: middle;\n",
       "    }\n",
       "\n",
       "    .dataframe tbody tr th {\n",
       "        vertical-align: top;\n",
       "    }\n",
       "\n",
       "    .dataframe thead th {\n",
       "        text-align: right;\n",
       "    }\n",
       "</style>\n",
       "<table border=\"1\" class=\"dataframe\">\n",
       "  <thead>\n",
       "    <tr style=\"text-align: right;\">\n",
       "      <th></th>\n",
       "      <th>Unnamed: 0</th>\n",
       "      <th>theta</th>\n",
       "      <th>sal</th>\n",
       "      <th>depth</th>\n",
       "      <th>nitrate</th>\n",
       "      <th>lon</th>\n",
       "      <th>lat</th>\n",
       "      <th>year</th>\n",
       "      <th>month</th>\n",
       "      <th>day</th>\n",
       "      <th>profile</th>\n",
       "      <th>density</th>\n",
       "    </tr>\n",
       "  </thead>\n",
       "  <tbody>\n",
       "    <tr>\n",
       "      <th>count</th>\n",
       "      <td>15574.000000</td>\n",
       "      <td>15574.000000</td>\n",
       "      <td>15574.000000</td>\n",
       "      <td>15574.000000</td>\n",
       "      <td>15574.000000</td>\n",
       "      <td>15574.000000</td>\n",
       "      <td>15574.000000</td>\n",
       "      <td>15574.000000</td>\n",
       "      <td>15574.000000</td>\n",
       "      <td>15574.000000</td>\n",
       "      <td>15574.000000</td>\n",
       "      <td>15574.000000</td>\n",
       "    </tr>\n",
       "    <tr>\n",
       "      <th>mean</th>\n",
       "      <td>8175.135932</td>\n",
       "      <td>7.042844</td>\n",
       "      <td>34.433404</td>\n",
       "      <td>1418.388211</td>\n",
       "      <td>26.855277</td>\n",
       "      <td>151.599624</td>\n",
       "      <td>32.696928</td>\n",
       "      <td>2012.313664</td>\n",
       "      <td>6.851034</td>\n",
       "      <td>13.509375</td>\n",
       "      <td>268.636766</td>\n",
       "      <td>26.574613</td>\n",
       "    </tr>\n",
       "    <tr>\n",
       "      <th>std</th>\n",
       "      <td>4675.484666</td>\n",
       "      <td>7.113994</td>\n",
       "      <td>0.354281</td>\n",
       "      <td>1528.846644</td>\n",
       "      <td>15.480812</td>\n",
       "      <td>9.692016</td>\n",
       "      <td>8.979100</td>\n",
       "      <td>1.684952</td>\n",
       "      <td>2.660677</td>\n",
       "      <td>8.723439</td>\n",
       "      <td>148.651926</td>\n",
       "      <td>1.221275</td>\n",
       "    </tr>\n",
       "    <tr>\n",
       "      <th>min</th>\n",
       "      <td>0.000000</td>\n",
       "      <td>0.034400</td>\n",
       "      <td>32.349200</td>\n",
       "      <td>0.000000</td>\n",
       "      <td>0.010000</td>\n",
       "      <td>133.990833</td>\n",
       "      <td>0.332167</td>\n",
       "      <td>2010.000000</td>\n",
       "      <td>2.000000</td>\n",
       "      <td>1.000000</td>\n",
       "      <td>1.000000</td>\n",
       "      <td>20.951302</td>\n",
       "    </tr>\n",
       "    <tr>\n",
       "      <th>25%</th>\n",
       "      <td>4105.250000</td>\n",
       "      <td>1.589650</td>\n",
       "      <td>34.240600</td>\n",
       "      <td>203.000000</td>\n",
       "      <td>11.250000</td>\n",
       "      <td>145.727833</td>\n",
       "      <td>30.003333</td>\n",
       "      <td>2011.000000</td>\n",
       "      <td>5.000000</td>\n",
       "      <td>6.000000</td>\n",
       "      <td>139.000000</td>\n",
       "      <td>25.882225</td>\n",
       "    </tr>\n",
       "    <tr>\n",
       "      <th>50%</th>\n",
       "      <td>8228.500000</td>\n",
       "      <td>3.418650</td>\n",
       "      <td>34.550800</td>\n",
       "      <td>803.000000</td>\n",
       "      <td>35.350000</td>\n",
       "      <td>148.149667</td>\n",
       "      <td>34.239500</td>\n",
       "      <td>2012.000000</td>\n",
       "      <td>7.000000</td>\n",
       "      <td>12.000000</td>\n",
       "      <td>275.000000</td>\n",
       "      <td>27.094050</td>\n",
       "    </tr>\n",
       "    <tr>\n",
       "      <th>75%</th>\n",
       "      <td>12223.750000</td>\n",
       "      <td>12.294850</td>\n",
       "      <td>34.681800</td>\n",
       "      <td>2002.000000</td>\n",
       "      <td>39.797500</td>\n",
       "      <td>164.231000</td>\n",
       "      <td>39.660833</td>\n",
       "      <td>2013.000000</td>\n",
       "      <td>9.000000</td>\n",
       "      <td>20.000000</td>\n",
       "      <td>394.000000</td>\n",
       "      <td>27.527512</td>\n",
       "    </tr>\n",
       "    <tr>\n",
       "      <th>max</th>\n",
       "      <td>16220.000000</td>\n",
       "      <td>29.923300</td>\n",
       "      <td>35.548100</td>\n",
       "      <td>6161.000000</td>\n",
       "      <td>45.330000</td>\n",
       "      <td>170.035167</td>\n",
       "      <td>49.991500</td>\n",
       "      <td>2016.000000</td>\n",
       "      <td>12.000000</td>\n",
       "      <td>31.000000</td>\n",
       "      <td>529.000000</td>\n",
       "      <td>27.681606</td>\n",
       "    </tr>\n",
       "  </tbody>\n",
       "</table>\n",
       "</div>"
      ],
      "text/plain": [
       "         Unnamed: 0         theta           sal         depth       nitrate  \\\n",
       "count  15574.000000  15574.000000  15574.000000  15574.000000  15574.000000   \n",
       "mean    8175.135932      7.042844     34.433404   1418.388211     26.855277   \n",
       "std     4675.484666      7.113994      0.354281   1528.846644     15.480812   \n",
       "min        0.000000      0.034400     32.349200      0.000000      0.010000   \n",
       "25%     4105.250000      1.589650     34.240600    203.000000     11.250000   \n",
       "50%     8228.500000      3.418650     34.550800    803.000000     35.350000   \n",
       "75%    12223.750000     12.294850     34.681800   2002.000000     39.797500   \n",
       "max    16220.000000     29.923300     35.548100   6161.000000     45.330000   \n",
       "\n",
       "                lon           lat          year         month           day  \\\n",
       "count  15574.000000  15574.000000  15574.000000  15574.000000  15574.000000   \n",
       "mean     151.599624     32.696928   2012.313664      6.851034     13.509375   \n",
       "std        9.692016      8.979100      1.684952      2.660677      8.723439   \n",
       "min      133.990833      0.332167   2010.000000      2.000000      1.000000   \n",
       "25%      145.727833     30.003333   2011.000000      5.000000      6.000000   \n",
       "50%      148.149667     34.239500   2012.000000      7.000000     12.000000   \n",
       "75%      164.231000     39.660833   2013.000000      9.000000     20.000000   \n",
       "max      170.035167     49.991500   2016.000000     12.000000     31.000000   \n",
       "\n",
       "            profile       density  \n",
       "count  15574.000000  15574.000000  \n",
       "mean     268.636766     26.574613  \n",
       "std      148.651926      1.221275  \n",
       "min        1.000000     20.951302  \n",
       "25%      139.000000     25.882225  \n",
       "50%      275.000000     27.094050  \n",
       "75%      394.000000     27.527512  \n",
       "max      529.000000     27.681606  "
      ]
     },
     "execution_count": 18,
     "metadata": {},
     "output_type": "execute_result"
    }
   ],
   "source": [
    "jmadata.describe()"
   ]
  },
  {
   "cell_type": "code",
   "execution_count": 19,
   "id": "1222f9c7",
   "metadata": {},
   "outputs": [
    {
     "data": {
      "text/html": [
       "<div>\n",
       "<style scoped>\n",
       "    .dataframe tbody tr th:only-of-type {\n",
       "        vertical-align: middle;\n",
       "    }\n",
       "\n",
       "    .dataframe tbody tr th {\n",
       "        vertical-align: top;\n",
       "    }\n",
       "\n",
       "    .dataframe thead th {\n",
       "        text-align: right;\n",
       "    }\n",
       "</style>\n",
       "<table border=\"1\" class=\"dataframe\">\n",
       "  <thead>\n",
       "    <tr style=\"text-align: right;\">\n",
       "      <th></th>\n",
       "      <th>Days since 1/1/1900</th>\n",
       "      <th>DEPTH[M]</th>\n",
       "      <th>PRESSURE[DBAR]</th>\n",
       "      <th>NA</th>\n",
       "      <th>SALINITY[PSS]</th>\n",
       "      <th>TEMPERATURE[C]</th>\n",
       "      <th>SIGMATHETA[KG/M3]</th>\n",
       "      <th>OXYGEN[uMOL/KG]</th>\n",
       "      <th>OXYGENSAT</th>\n",
       "      <th>LON</th>\n",
       "      <th>LAT</th>\n",
       "    </tr>\n",
       "  </thead>\n",
       "  <tbody>\n",
       "    <tr>\n",
       "      <th>count</th>\n",
       "      <td>16136.000000</td>\n",
       "      <td>16136.000000</td>\n",
       "      <td>16136.000000</td>\n",
       "      <td>16136.000000</td>\n",
       "      <td>16136.000000</td>\n",
       "      <td>16136.000000</td>\n",
       "      <td>16136.000000</td>\n",
       "      <td>1.613600e+04</td>\n",
       "      <td>1.613600e+04</td>\n",
       "      <td>16136.000000</td>\n",
       "      <td>16136.000000</td>\n",
       "    </tr>\n",
       "    <tr>\n",
       "      <th>mean</th>\n",
       "      <td>42033.532222</td>\n",
       "      <td>-276.153707</td>\n",
       "      <td>-278.469741</td>\n",
       "      <td>6.720191</td>\n",
       "      <td>34.476596</td>\n",
       "      <td>14.046241</td>\n",
       "      <td>25.635727</td>\n",
       "      <td>inf</td>\n",
       "      <td>inf</td>\n",
       "      <td>167.317041</td>\n",
       "      <td>33.298311</td>\n",
       "    </tr>\n",
       "    <tr>\n",
       "      <th>std</th>\n",
       "      <td>404.512161</td>\n",
       "      <td>255.841439</td>\n",
       "      <td>258.212597</td>\n",
       "      <td>3.357582</td>\n",
       "      <td>0.267405</td>\n",
       "      <td>5.421896</td>\n",
       "      <td>0.922911</td>\n",
       "      <td>inf</td>\n",
       "      <td>inf</td>\n",
       "      <td>6.650333</td>\n",
       "      <td>1.943762</td>\n",
       "    </tr>\n",
       "    <tr>\n",
       "      <th>min</th>\n",
       "      <td>41335.568000</td>\n",
       "      <td>-990.493000</td>\n",
       "      <td>-999.800000</td>\n",
       "      <td>1.000000</td>\n",
       "      <td>33.675300</td>\n",
       "      <td>3.018000</td>\n",
       "      <td>21.966000</td>\n",
       "      <td>2.280000e+01</td>\n",
       "      <td>7.100000e+00</td>\n",
       "      <td>148.325000</td>\n",
       "      <td>30.092000</td>\n",
       "    </tr>\n",
       "    <tr>\n",
       "      <th>25%</th>\n",
       "      <td>41684.360000</td>\n",
       "      <td>-348.988500</td>\n",
       "      <td>-351.730000</td>\n",
       "      <td>4.000000</td>\n",
       "      <td>34.271800</td>\n",
       "      <td>10.776225</td>\n",
       "      <td>25.184000</td>\n",
       "      <td>1.915000e+02</td>\n",
       "      <td>7.330000e+01</td>\n",
       "      <td>163.251000</td>\n",
       "      <td>31.765000</td>\n",
       "    </tr>\n",
       "    <tr>\n",
       "      <th>50%</th>\n",
       "      <td>42034.303000</td>\n",
       "      <td>-200.253000</td>\n",
       "      <td>-201.765000</td>\n",
       "      <td>7.000000</td>\n",
       "      <td>34.537900</td>\n",
       "      <td>15.179800</td>\n",
       "      <td>25.601000</td>\n",
       "      <td>2.127000e+02</td>\n",
       "      <td>8.650000e+01</td>\n",
       "      <td>169.269000</td>\n",
       "      <td>32.565000</td>\n",
       "    </tr>\n",
       "    <tr>\n",
       "      <th>75%</th>\n",
       "      <td>42382.406000</td>\n",
       "      <td>-76.392250</td>\n",
       "      <td>-76.947500</td>\n",
       "      <td>10.000000</td>\n",
       "      <td>34.688225</td>\n",
       "      <td>17.509325</td>\n",
       "      <td>26.225000</td>\n",
       "      <td>2.281000e+02</td>\n",
       "      <td>9.770000e+01</td>\n",
       "      <td>171.610000</td>\n",
       "      <td>34.901000</td>\n",
       "    </tr>\n",
       "    <tr>\n",
       "      <th>max</th>\n",
       "      <td>42736.536000</td>\n",
       "      <td>-4.061000</td>\n",
       "      <td>-4.090000</td>\n",
       "      <td>12.000000</td>\n",
       "      <td>35.350200</td>\n",
       "      <td>27.426200</td>\n",
       "      <td>27.410000</td>\n",
       "      <td>1.790000e+308</td>\n",
       "      <td>1.790000e+308</td>\n",
       "      <td>176.199000</td>\n",
       "      <td>37.759000</td>\n",
       "    </tr>\n",
       "  </tbody>\n",
       "</table>\n",
       "</div>"
      ],
      "text/plain": [
       "       Days since 1/1/1900      DEPTH[M]  PRESSURE[DBAR]            NA  \\\n",
       "count         16136.000000  16136.000000    16136.000000  16136.000000   \n",
       "mean          42033.532222   -276.153707     -278.469741      6.720191   \n",
       "std             404.512161    255.841439      258.212597      3.357582   \n",
       "min           41335.568000   -990.493000     -999.800000      1.000000   \n",
       "25%           41684.360000   -348.988500     -351.730000      4.000000   \n",
       "50%           42034.303000   -200.253000     -201.765000      7.000000   \n",
       "75%           42382.406000    -76.392250      -76.947500     10.000000   \n",
       "max           42736.536000     -4.061000       -4.090000     12.000000   \n",
       "\n",
       "       SALINITY[PSS]  TEMPERATURE[C]  SIGMATHETA[KG/M3]  OXYGEN[uMOL/KG]  \\\n",
       "count   16136.000000    16136.000000       16136.000000     1.613600e+04   \n",
       "mean       34.476596       14.046241          25.635727              inf   \n",
       "std         0.267405        5.421896           0.922911              inf   \n",
       "min        33.675300        3.018000          21.966000     2.280000e+01   \n",
       "25%        34.271800       10.776225          25.184000     1.915000e+02   \n",
       "50%        34.537900       15.179800          25.601000     2.127000e+02   \n",
       "75%        34.688225       17.509325          26.225000     2.281000e+02   \n",
       "max        35.350200       27.426200          27.410000    1.790000e+308   \n",
       "\n",
       "           OXYGENSAT           LON           LAT  \n",
       "count   1.613600e+04  16136.000000  16136.000000  \n",
       "mean             inf    167.317041     33.298311  \n",
       "std              inf      6.650333      1.943762  \n",
       "min     7.100000e+00    148.325000     30.092000  \n",
       "25%     7.330000e+01    163.251000     31.765000  \n",
       "50%     8.650000e+01    169.269000     32.565000  \n",
       "75%     9.770000e+01    171.610000     34.901000  \n",
       "max    1.790000e+308    176.199000     37.759000  "
      ]
     },
     "execution_count": 19,
     "metadata": {},
     "output_type": "execute_result"
    }
   ],
   "source": [
    "bgcdata.describe()"
   ]
  },
  {
   "cell_type": "code",
   "execution_count": null,
   "id": "b07c9a06",
   "metadata": {},
   "outputs": [],
   "source": [
    "# Make a map\n",
    "    # Data density by profile\n",
    "# Make histogram for the depth ranges\n",
    "# T-S Diagram\n",
    "# Look at dates - data density associated with season\n",
    "# Look at other variables as needed"
   ]
  },
  {
   "cell_type": "markdown",
   "id": "d290d2c1",
   "metadata": {},
   "source": [
    "## Part 2 (40 points): Model application and evaluation\n",
    "\n",
    "Apply your nitrate model trained on the JMA dataset to the BGC Argo data to estimate nitrate concentrations based on your input variables (e.g. temperature, salinity, etc…).\n",
    "\n",
    "Compare the observed BGC Argo nitrate to the values predicted by your model.\n",
    "\n",
    "Report the r2 score and RMSE (root mean squared error).\n",
    "Does your model perform consistently well, or are there any noticeable outliers? If there are, identify those data points and suggest reasons why you think that your model performs less well for those points."
   ]
  },
  {
   "cell_type": "code",
   "execution_count": 20,
   "id": "46ced81d",
   "metadata": {},
   "outputs": [],
   "source": [
    "# Make the data split\n",
    "y = jmadata.nitrate\n",
    "X = jmadata[['density','depth','sal']]\n",
    "\n",
    "from sklearn.model_selection import train_test_split\n",
    "X_train,X_test,y_train,y_test = train_test_split(X,y,test_size=0.2,random_state=4)\n",
    "# test size is the percentage of test points you want, random state is the \"seed\" number so people can reproduce what you have done"
   ]
  },
  {
   "cell_type": "code",
   "execution_count": 21,
   "id": "b3f4930a",
   "metadata": {},
   "outputs": [
    {
     "data": {
      "text/plain": [
       "3115"
      ]
     },
     "execution_count": 21,
     "metadata": {},
     "output_type": "execute_result"
    }
   ],
   "source": [
    "# just to look and check them\n",
    "len(X_test)"
   ]
  },
  {
   "cell_type": "code",
   "execution_count": 22,
   "id": "0e781184",
   "metadata": {},
   "outputs": [],
   "source": [
    "from sklearn.preprocessing import StandardScaler\n",
    "\n",
    "scaler = StandardScaler().fit(X_train)\n",
    "standardized_X = scaler.transform(X_train)\n",
    "standardized_X_test = scaler.transform(X_test)"
   ]
  },
  {
   "cell_type": "code",
   "execution_count": 23,
   "id": "9803f2ff",
   "metadata": {},
   "outputs": [
    {
     "name": "stdout",
     "output_type": "stream",
     "text": [
      "Choose a number for k: 10\n",
      "R^2 score: 0.99\n",
      "r2 = 0.9928389816294825\n",
      "r2 = 0.9908948862262515\n",
      "RMSE = 1.4722971877269766\n"
     ]
    }
   ],
   "source": [
    "\n",
    "# pick model\n",
    "n  = int(input('Choose a number for k: '))\n",
    "\n",
    "from sklearn.neighbors import KNeighborsRegressor\n",
    "model = KNeighborsRegressor(n_neighbors=n)\n",
    "model.fit(standardized_X, y_train)\n",
    "\n",
    "# compute the R^2 score\n",
    "print(\"R^2 score: {0:.2f}\".format(model.score(standardized_X, y_train)))\n",
    "\n",
    "# plot the model together with the data\n",
    "y_pred = model.predict(standardized_X_test)\n",
    "\n",
    "#plt.scatter(standardized_X, y_train)\n",
    "#plt.plot(standardized_X_test,y_pred)\n",
    "#plt.show()\n",
    "\n",
    "from sklearn.metrics import mean_squared_error, r2_score\n",
    "\n",
    "\n",
    "print('r2 =', r2_score(y_train, model.predict(standardized_X)))\n",
    "print('r2 =', r2_score(y_test, y_pred))\n",
    "print('RMSE =',np.sqrt(mean_squared_error(y_test, y_pred)))\n",
    "# we want to minimize RMSE with our model (its how good our model is)"
   ]
  },
  {
   "cell_type": "code",
   "execution_count": 32,
   "id": "a2334e51",
   "metadata": {},
   "outputs": [],
   "source": [
    "# For loop to find the best model k\n",
    "k = []\n",
    "r2_train = []\n",
    "r2_test = []\n",
    "RMSE = []\n",
    "\n",
    "loops = range(1,31)\n",
    "\n",
    "for n in loops:\n",
    "    model = KNeighborsRegressor(n_neighbors=n)\n",
    "    model.fit(standardized_X, y_train)\n",
    "\n",
    "    # Use the model to predict y (nitrate values)\n",
    "    y_pred = model.predict(standardized_X_test)\n",
    "    \n",
    "    # Form our lists to plot\n",
    "    k.append(n)\n",
    "    r2_train.append(r2_score(y_train, model.predict(standardized_X)))\n",
    "    r2_test.append(r2_score(y_test, y_pred))\n",
    "    RMSE.append(np.sqrt(mean_squared_error(y_test, y_pred)))"
   ]
  },
  {
   "cell_type": "code",
   "execution_count": 33,
   "id": "7af26f5f",
   "metadata": {},
   "outputs": [
    {
     "data": {
      "text/plain": [
       "Text(0, 0.5, 'r2 for test')"
      ]
     },
     "execution_count": 33,
     "metadata": {},
     "output_type": "execute_result"
    },
    {
     "data": {
      "image/png": "[encoded data removed]",
      "text/plain": [
       "<Figure size 432x288 with 1 Axes>"
      ]
     },
     "metadata": {
      "needs_background": "light"
     },
     "output_type": "display_data"
    }
   ],
   "source": [
    "plt.plot(k,r2_test)\n",
    "plt.xlabel('k value')\n",
    "plt.ylabel('r2 for test')"
   ]
  },
  {
   "cell_type": "code",
   "execution_count": 29,
   "id": "feaa4c02",
   "metadata": {},
   "outputs": [
    {
     "data": {
      "text/plain": [
       "Text(0, 0.5, 'RMSE')"
      ]
     },
     "execution_count": 29,
     "metadata": {},
     "output_type": "execute_result"
    },
    {
     "data": {
      "image/png": "[encoded data removed]",
      "text/plain": [
       "<Figure size 432x288 with 1 Axes>"
      ]
     },
     "metadata": {
      "needs_background": "light"
     },
     "output_type": "display_data"
    }
   ],
   "source": [
    "plt.plot(k,RMSE)\n",
    "plt.xlabel('k value')\n",
    "plt.ylabel('RMSE')"
   ]
  },
  {
   "cell_type": "markdown",
   "id": "76bed4f7",
   "metadata": {},
   "source": [
    "When running with 100 versions of k (1-100) shows that RMSE increases and r2 decreases after around 30. Thus, we ran the loop again with only 1-30 for k. "
   ]
  },
  {
   "cell_type": "code",
   "execution_count": null,
   "id": "33f28e15",
   "metadata": {},
   "outputs": [],
   "source": [
    "# Run the model at k = 10 and plot to check for overfitting (will follow the outliers exactly)"
   ]
  },
  {
   "cell_type": "markdown",
   "id": "b12780a0",
   "metadata": {},
   "source": [
    "test the evaluate the r^2 of the model with the bcg argo data. "
   ]
  }
 ],
 "metadata": {
  "kernelspec": {
   "display_name": "Python 3 (ipykernel)",
   "language": "python",
   "name": "python3"
  },
  "language_info": {
   "codemirror_mode": {
    "name": "ipython",
    "version": 3
   },
   "file_extension": ".py",
   "mimetype": "text/x-python",
   "name": "python",
   "nbconvert_exporter": "python",
   "pygments_lexer": "ipython3",
   "version": "3.9.7"
  }
 },
 "nbformat": 4,
 "nbformat_minor": 5
}
