{
 "cells": [
  {
   "cell_type": "code",
   "execution_count": 1,
   "id": "a5c648bc",
   "metadata": {},
   "outputs": [],
   "source": [
    "# Import packages\n",
    "import pandas as pd\n",
    "import seaborn as sns\n",
    "import matplotlib.pyplot as plt\n"
   ]
  },
  {
   "cell_type": "code",
   "execution_count": 4,
   "id": "e1f4e468",
   "metadata": {},
   "outputs": [],
   "source": [
    "# Import the file and open it\n",
    "\n",
    "infile = './Data/city_temperature.csv'\n",
    "\n",
    "data = pd.read_csv(infile, sep = ',', low_memory = False)"
   ]
  },
  {
   "cell_type": "code",
   "execution_count": 8,
   "id": "b920f576",
   "metadata": {},
   "outputs": [
    {
     "data": {
      "text/html": [
       "<div>\n",
       "<style scoped>\n",
       "    .dataframe tbody tr th:only-of-type {\n",
       "        vertical-align: middle;\n",
       "    }\n",
       "\n",
       "    .dataframe tbody tr th {\n",
       "        vertical-align: top;\n",
       "    }\n",
       "\n",
       "    .dataframe thead th {\n",
       "        text-align: right;\n",
       "    }\n",
       "</style>\n",
       "<table border=\"1\" class=\"dataframe\">\n",
       "  <thead>\n",
       "    <tr style=\"text-align: right;\">\n",
       "      <th></th>\n",
       "      <th>Region</th>\n",
       "      <th>Country</th>\n",
       "      <th>State</th>\n",
       "      <th>City</th>\n",
       "      <th>Month</th>\n",
       "      <th>Day</th>\n",
       "      <th>Year</th>\n",
       "      <th>AvgTemperature</th>\n",
       "    </tr>\n",
       "  </thead>\n",
       "  <tbody>\n",
       "    <tr>\n",
       "      <th>0</th>\n",
       "      <td>Africa</td>\n",
       "      <td>Algeria</td>\n",
       "      <td>NaN</td>\n",
       "      <td>Algiers</td>\n",
       "      <td>1</td>\n",
       "      <td>1</td>\n",
       "      <td>1995</td>\n",
       "      <td>64.2</td>\n",
       "    </tr>\n",
       "    <tr>\n",
       "      <th>1</th>\n",
       "      <td>Africa</td>\n",
       "      <td>Algeria</td>\n",
       "      <td>NaN</td>\n",
       "      <td>Algiers</td>\n",
       "      <td>1</td>\n",
       "      <td>2</td>\n",
       "      <td>1995</td>\n",
       "      <td>49.4</td>\n",
       "    </tr>\n",
       "    <tr>\n",
       "      <th>2</th>\n",
       "      <td>Africa</td>\n",
       "      <td>Algeria</td>\n",
       "      <td>NaN</td>\n",
       "      <td>Algiers</td>\n",
       "      <td>1</td>\n",
       "      <td>3</td>\n",
       "      <td>1995</td>\n",
       "      <td>48.8</td>\n",
       "    </tr>\n",
       "    <tr>\n",
       "      <th>3</th>\n",
       "      <td>Africa</td>\n",
       "      <td>Algeria</td>\n",
       "      <td>NaN</td>\n",
       "      <td>Algiers</td>\n",
       "      <td>1</td>\n",
       "      <td>4</td>\n",
       "      <td>1995</td>\n",
       "      <td>46.4</td>\n",
       "    </tr>\n",
       "    <tr>\n",
       "      <th>4</th>\n",
       "      <td>Africa</td>\n",
       "      <td>Algeria</td>\n",
       "      <td>NaN</td>\n",
       "      <td>Algiers</td>\n",
       "      <td>1</td>\n",
       "      <td>5</td>\n",
       "      <td>1995</td>\n",
       "      <td>47.9</td>\n",
       "    </tr>\n",
       "  </tbody>\n",
       "</table>\n",
       "</div>"
      ],
      "text/plain": [
       "   Region  Country State     City  Month  Day  Year  AvgTemperature\n",
       "0  Africa  Algeria   NaN  Algiers      1    1  1995            64.2\n",
       "1  Africa  Algeria   NaN  Algiers      1    2  1995            49.4\n",
       "2  Africa  Algeria   NaN  Algiers      1    3  1995            48.8\n",
       "3  Africa  Algeria   NaN  Algiers      1    4  1995            46.4\n",
       "4  Africa  Algeria   NaN  Algiers      1    5  1995            47.9"
      ]
     },
     "execution_count": 8,
     "metadata": {},
     "output_type": "execute_result"
    }
   ],
   "source": [
    "# Top 5 rows\n",
    "data.head()"
   ]
  },
  {
   "cell_type": "code",
   "execution_count": 7,
   "id": "8df0826a",
   "metadata": {},
   "outputs": [
    {
     "data": {
      "text/html": [
       "<div>\n",
       "<style scoped>\n",
       "    .dataframe tbody tr th:only-of-type {\n",
       "        vertical-align: middle;\n",
       "    }\n",
       "\n",
       "    .dataframe tbody tr th {\n",
       "        vertical-align: top;\n",
       "    }\n",
       "\n",
       "    .dataframe thead th {\n",
       "        text-align: right;\n",
       "    }\n",
       "</style>\n",
       "<table border=\"1\" class=\"dataframe\">\n",
       "  <thead>\n",
       "    <tr style=\"text-align: right;\">\n",
       "      <th></th>\n",
       "      <th>Region</th>\n",
       "      <th>Country</th>\n",
       "      <th>State</th>\n",
       "      <th>City</th>\n",
       "      <th>Month</th>\n",
       "      <th>Day</th>\n",
       "      <th>Year</th>\n",
       "      <th>AvgTemperature</th>\n",
       "    </tr>\n",
       "  </thead>\n",
       "  <tbody>\n",
       "    <tr>\n",
       "      <th>2906322</th>\n",
       "      <td>North America</td>\n",
       "      <td>US</td>\n",
       "      <td>Additional Territories</td>\n",
       "      <td>San Juan Puerto Rico</td>\n",
       "      <td>7</td>\n",
       "      <td>27</td>\n",
       "      <td>2013</td>\n",
       "      <td>82.4</td>\n",
       "    </tr>\n",
       "    <tr>\n",
       "      <th>2906323</th>\n",
       "      <td>North America</td>\n",
       "      <td>US</td>\n",
       "      <td>Additional Territories</td>\n",
       "      <td>San Juan Puerto Rico</td>\n",
       "      <td>7</td>\n",
       "      <td>28</td>\n",
       "      <td>2013</td>\n",
       "      <td>81.6</td>\n",
       "    </tr>\n",
       "    <tr>\n",
       "      <th>2906324</th>\n",
       "      <td>North America</td>\n",
       "      <td>US</td>\n",
       "      <td>Additional Territories</td>\n",
       "      <td>San Juan Puerto Rico</td>\n",
       "      <td>7</td>\n",
       "      <td>29</td>\n",
       "      <td>2013</td>\n",
       "      <td>84.2</td>\n",
       "    </tr>\n",
       "    <tr>\n",
       "      <th>2906325</th>\n",
       "      <td>North America</td>\n",
       "      <td>US</td>\n",
       "      <td>Additional Territories</td>\n",
       "      <td>San Juan Puerto Rico</td>\n",
       "      <td>7</td>\n",
       "      <td>30</td>\n",
       "      <td>2013</td>\n",
       "      <td>83.8</td>\n",
       "    </tr>\n",
       "    <tr>\n",
       "      <th>2906326</th>\n",
       "      <td>North America</td>\n",
       "      <td>US</td>\n",
       "      <td>Additional Territories</td>\n",
       "      <td>San Juan Puerto Rico</td>\n",
       "      <td>7</td>\n",
       "      <td>31</td>\n",
       "      <td>2013</td>\n",
       "      <td>83.6</td>\n",
       "    </tr>\n",
       "  </tbody>\n",
       "</table>\n",
       "</div>"
      ],
      "text/plain": [
       "                Region Country                   State                  City  \\\n",
       "2906322  North America      US  Additional Territories  San Juan Puerto Rico   \n",
       "2906323  North America      US  Additional Territories  San Juan Puerto Rico   \n",
       "2906324  North America      US  Additional Territories  San Juan Puerto Rico   \n",
       "2906325  North America      US  Additional Territories  San Juan Puerto Rico   \n",
       "2906326  North America      US  Additional Territories  San Juan Puerto Rico   \n",
       "\n",
       "         Month  Day  Year  AvgTemperature  \n",
       "2906322      7   27  2013            82.4  \n",
       "2906323      7   28  2013            81.6  \n",
       "2906324      7   29  2013            84.2  \n",
       "2906325      7   30  2013            83.8  \n",
       "2906326      7   31  2013            83.6  "
      ]
     },
     "execution_count": 7,
     "metadata": {},
     "output_type": "execute_result"
    }
   ],
   "source": [
    "# Last 5 rows\n",
    "data.tail()"
   ]
  },
  {
   "cell_type": "code",
   "execution_count": 9,
   "id": "4b82a380",
   "metadata": {},
   "outputs": [
    {
     "data": {
      "text/plain": [
       "Index(['Region', 'Country', 'State', 'City', 'Month', 'Day', 'Year',\n",
       "       'AvgTemperature'],\n",
       "      dtype='object')"
      ]
     },
     "execution_count": 9,
     "metadata": {},
     "output_type": "execute_result"
    }
   ],
   "source": [
    "# List all the variable names\n",
    "data.columns"
   ]
  },
  {
   "cell_type": "code",
   "execution_count": 10,
   "id": "b83bc175",
   "metadata": {},
   "outputs": [
    {
     "data": {
      "text/plain": [
       "array(['Algeria', 'Burundi', 'Benin', 'Central African Republic', 'Congo',\n",
       "       'Egypt', 'Ethiopia', 'Gabon', 'Gambia', 'Guinea', 'Guinea-Bissau',\n",
       "       'Ivory Coast', 'Kenya', 'Morocco', 'Madagascar', 'Mauritania',\n",
       "       'Malawi', 'Mozambique', 'Namibia', 'Nigeria', 'Senegal',\n",
       "       'Sierra Leone', 'South Africa', 'Togo', 'Tunisia', 'Tanzania',\n",
       "       'Uganda', 'Zambia', 'Bangladesh', 'China', 'Hong Kong', 'India',\n",
       "       'Indonesia', 'Japan', 'Kazakhstan', 'Kyrgyzstan', 'Laos',\n",
       "       'Malaysia', 'Mongolia', 'Myanmar (Burma)', 'Nepal', 'North Korea',\n",
       "       'Pakistan', 'Philippines', 'Singapore', 'South Korea', 'Sri Lanka',\n",
       "       'Taiwan', 'Tajikistan', 'Thailand', 'Turkmenistan', 'Uzbekistan',\n",
       "       'Vietnam', 'Australia', 'New Zealand', 'Albania', 'Austria',\n",
       "       'Belarus', 'Belgium', 'Bulgaria', 'Croatia', 'Cyprus',\n",
       "       'Czech Republic', 'Denmark', 'Finland', 'France', 'Germany',\n",
       "       'Georgia', 'Greece', 'Hungary', 'Iceland', 'Ireland', 'Italy',\n",
       "       'Latvia', 'Macedonia', 'The Netherlands', 'Norway', 'Poland',\n",
       "       'Portugal', 'Romania', 'Russia', 'Serbia-Montenegro', 'Slovakia',\n",
       "       'Spain', 'Sweden', 'Switzerland', 'Ukraine', 'United Kingdom',\n",
       "       'Yugoslavia', 'Bahrain', 'Israel', 'Jordan', 'Kuwait', 'Lebanon',\n",
       "       'Oman', 'Qatar', 'Saudi Arabia', 'Syria', 'Turkey',\n",
       "       'United Arab Emirates', 'Canada', 'Mexico', 'Argentina', 'Bahamas',\n",
       "       'Bermuda', 'Belize', 'Bolivia', 'Barbados', 'Brazil', 'Colombia',\n",
       "       'Costa Rica', 'Cuba', 'Dominican Republic', 'Equador', 'Guatemala',\n",
       "       'Guyana', 'Haiti', 'Honduras', 'Nicaragua', 'Panama', 'Peru',\n",
       "       'Suriname', 'Uruguay', 'Venezuela', 'US'], dtype=object)"
      ]
     },
     "execution_count": 10,
     "metadata": {},
     "output_type": "execute_result"
    }
   ],
   "source": [
    "# List of all the unique contries\n",
    "data['Country'].unique()"
   ]
  },
  {
   "cell_type": "code",
   "execution_count": 12,
   "id": "85ebfa74",
   "metadata": {},
   "outputs": [],
   "source": [
    "Costa_Rica = data[data['Country'] == 'Costa Rica']"
   ]
  },
  {
   "cell_type": "code",
   "execution_count": 14,
   "id": "e4b7cbe6",
   "metadata": {},
   "outputs": [
    {
     "name": "stdout",
     "output_type": "stream",
     "text": [
      "<class 'pandas.core.frame.DataFrame'>\n",
      "Int64Index: 9266 entries, 1319838 to 1329103\n",
      "Data columns (total 8 columns):\n",
      " #   Column          Non-Null Count  Dtype  \n",
      "---  ------          --------------  -----  \n",
      " 0   Region          9266 non-null   object \n",
      " 1   Country         9266 non-null   object \n",
      " 2   State           0 non-null      object \n",
      " 3   City            9266 non-null   object \n",
      " 4   Month           9266 non-null   int64  \n",
      " 5   Day             9266 non-null   int64  \n",
      " 6   Year            9266 non-null   int64  \n",
      " 7   AvgTemperature  9266 non-null   float64\n",
      "dtypes: float64(1), int64(3), object(4)\n",
      "memory usage: 651.5+ KB\n"
     ]
    }
   ],
   "source": [
    "Costa_Rica.info()\n",
    "\n",
    "# If there are () after the thing, it means it is a function. so\n",
    "# we are asking python to run the info function on this data set,\n",
    "# but columns is just spitting out the info, not a functioncr"
   ]
  },
  {
   "cell_type": "code",
   "execution_count": 17,
   "id": "73562921",
   "metadata": {},
   "outputs": [
    {
     "data": {
      "text/plain": [
       "26"
      ]
     },
     "execution_count": 17,
     "metadata": {},
     "output_type": "execute_result"
    }
   ],
   "source": [
    "# We want to see how many years there are \n",
    "\n",
    "len(Costa_Rica['Year'].unique())"
   ]
  },
  {
   "cell_type": "code",
   "execution_count": 18,
   "id": "8dd85e20",
   "metadata": {},
   "outputs": [
    {
     "data": {
      "text/plain": [
       "array([1995, 1996, 1997, 1998, 1999, 2000, 2001, 2002, 2003, 2004, 2005,\n",
       "       2006, 2007, 2008, 2009, 2010, 2011, 2012, 2013, 2014, 2015, 2016,\n",
       "       2017, 2018, 2019, 2020])"
      ]
     },
     "execution_count": 18,
     "metadata": {},
     "output_type": "execute_result"
    }
   ],
   "source": [
    "# What is the earliest year? and Latest Year? \n",
    "# Are there any missing years?\n",
    "\n",
    "Costa_Rica['Year'].unique()"
   ]
  },
  {
   "cell_type": "code",
   "execution_count": 23,
   "id": "cba5818f",
   "metadata": {},
   "outputs": [
    {
     "data": {
      "text/plain": [
       "Month\n",
       "1     70.976179\n",
       "2     70.821905\n",
       "3     73.084864\n",
       "4     72.964744\n",
       "5     65.809518\n",
       "6     70.196533\n",
       "7     71.241806\n",
       "8     71.258839\n",
       "9     68.170533\n",
       "10    69.882452\n",
       "11    69.626933\n",
       "12    70.323969\n",
       "Name: AvgTemperature, dtype: float64"
      ]
     },
     "execution_count": 23,
     "metadata": {},
     "output_type": "execute_result"
    }
   ],
   "source": [
    "# Avergae Temperature in Costa Rica in the month of May\n",
    "\n",
    "Monthly_AvTemp = Costa_Rica.groupby('Month')['AvgTemperature'].mean()\n",
    "\n",
    "Monthly_AvTemp"
   ]
  },
  {
   "cell_type": "code",
   "execution_count": 27,
   "id": "7e69fddb",
   "metadata": {},
   "outputs": [
    {
     "data": {
      "text/plain": [
       "<AxesSubplot: xlabel='Month', ylabel='AvgTemperature'>"
      ]
     },
     "execution_count": 27,
     "metadata": {},
     "output_type": "execute_result"
    },
    {
     "data": {
      "image/png": "[encoded data removed]",
      "text/plain": [
       "<Figure size 640x480 with 1 Axes>"
      ]
     },
     "metadata": {},
     "output_type": "display_data"
    }
   ],
   "source": [
    "sns.lineplot(Monthly_AvTemp)"
   ]
  },
  {
   "cell_type": "code",
   "execution_count": 28,
   "id": "12716f01",
   "metadata": {},
   "outputs": [
    {
     "data": {
      "text/plain": [
       "<AxesSubplot: xlabel='Year', ylabel='AvgTemperature'>"
      ]
     },
     "execution_count": 28,
     "metadata": {},
     "output_type": "execute_result"
    },
    {
     "data": {
      "image/png": "[encoded data removed]",
      "text/plain": [
       "<Figure size 640x480 with 1 Axes>"
      ]
     },
     "metadata": {},
     "output_type": "display_data"
    }
   ],
   "source": [
    "sns.lineplot(x= 'Year', y='AvgTemperature', data = Costa_Rica)"
   ]
  },
  {
   "cell_type": "code",
   "execution_count": 29,
   "id": "9daf527e",
   "metadata": {},
   "outputs": [
    {
     "data": {
      "text/plain": [
       "<AxesSubplot: xlabel='City', ylabel='AvgTemperature'>"
      ]
     },
     "execution_count": 29,
     "metadata": {},
     "output_type": "execute_result"
    },
    {
     "data": {
      "image/png": "[encoded data removed]",
      "text/plain": [
       "<Figure size 640x480 with 1 Axes>"
      ]
     },
     "metadata": {},
     "output_type": "display_data"
    }
   ],
   "source": [
    "sns.barplot(data = Costa_Rica, x = 'City', y = 'AvgTemperature')"
   ]
  },
  {
   "cell_type": "code",
   "execution_count": 35,
   "id": "e994cb38",
   "metadata": {},
   "outputs": [],
   "source": [
    "Germany = data[data['Country'] == 'Germany']"
   ]
  },
  {
   "cell_type": "code",
   "execution_count": 36,
   "id": "a967115f",
   "metadata": {},
   "outputs": [
    {
     "data": {
      "text/plain": [
       "<AxesSubplot: xlabel='City', ylabel='AvgTemperature'>"
      ]
     },
     "execution_count": 36,
     "metadata": {},
     "output_type": "execute_result"
    },
    {
     "data": {
      "image/png": "[encoded data removed]",
      "text/plain": [
       "<Figure size 640x480 with 1 Axes>"
      ]
     },
     "metadata": {},
     "output_type": "display_data"
    }
   ],
   "source": [
    "sns.barplot(data = Germany, x = 'City', y = 'AvgTemperature')"
   ]
  },
  {
   "cell_type": "code",
   "execution_count": 37,
   "id": "fe4c1c65",
   "metadata": {},
   "outputs": [],
   "source": [
    "# Let's take a look at Bonn, since the avg temperature is so low\n",
    "\n",
    "Bonn = Germany[Germany['City']=='Bonn']"
   ]
  },
  {
   "cell_type": "code",
   "execution_count": 41,
   "id": "e4cf46ca",
   "metadata": {},
   "outputs": [
    {
     "data": {
      "text/plain": [
       "Month\n",
       "1     279\n",
       "2     254\n",
       "3     279\n",
       "4     270\n",
       "5     279\n",
       "6     270\n",
       "7     278\n",
       "8     248\n",
       "9     240\n",
       "10    248\n",
       "11    240\n",
       "12    248\n",
       "Name: AvgTemperature, dtype: int64"
      ]
     },
     "execution_count": 41,
     "metadata": {},
     "output_type": "execute_result"
    }
   ],
   "source": [
    "Bonn.groupby('Month')['AvgTemperature'].count()"
   ]
  },
  {
   "cell_type": "code",
   "execution_count": 44,
   "id": "03db9dc6",
   "metadata": {},
   "outputs": [
    {
     "data": {
      "text/plain": [
       "Month\n",
       "1    -42.008602\n",
       "2    -48.649606\n",
       "3    -55.663082\n",
       "4    -53.019259\n",
       "5    -42.061649\n",
       "6    -46.458889\n",
       "7    -39.978058\n",
       "8    -41.170565\n",
       "9    -41.370417\n",
       "10   -41.337097\n",
       "11   -48.532083\n",
       "12   -62.433468\n",
       "Name: AvgTemperature, dtype: float64"
      ]
     },
     "execution_count": 44,
     "metadata": {},
     "output_type": "execute_result"
    }
   ],
   "source": [
    "Bonn.groupby('Month')['AvgTemperature'].mean()"
   ]
  },
  {
   "cell_type": "code",
   "execution_count": 43,
   "id": "c7d5f956",
   "metadata": {},
   "outputs": [
    {
     "data": {
      "text/plain": [
       "Month\n",
       "1    -99.0\n",
       "2    -99.0\n",
       "3    -99.0\n",
       "4    -99.0\n",
       "5    -99.0\n",
       "6    -99.0\n",
       "7    -99.0\n",
       "8    -99.0\n",
       "9    -99.0\n",
       "10   -99.0\n",
       "11   -99.0\n",
       "12   -99.0\n",
       "Name: AvgTemperature, dtype: float64"
      ]
     },
     "execution_count": 43,
     "metadata": {},
     "output_type": "execute_result"
    }
   ],
   "source": [
    "Bonn.groupby('Month')['AvgTemperature'].median()\n",
    "\n",
    "# This shows that NaNs are set as -99 so we need to take those out"
   ]
  },
  {
   "cell_type": "code",
   "execution_count": 45,
   "id": "64462784",
   "metadata": {},
   "outputs": [
    {
     "data": {
      "text/plain": [
       "Month\n",
       "1    -99.0\n",
       "2    -99.0\n",
       "3    -99.0\n",
       "4    -99.0\n",
       "5    -99.0\n",
       "6    -99.0\n",
       "7     54.9\n",
       "8    -99.0\n",
       "9    -99.0\n",
       "10    37.9\n",
       "11   -99.0\n",
       "12   -99.0\n",
       "Name: AvgTemperature, dtype: float64"
      ]
     },
     "execution_count": 45,
     "metadata": {},
     "output_type": "execute_result"
    }
   ],
   "source": [
    "# Check other places for these NaNs\n",
    "\n",
    "data[data.City == 'London'].groupby('Month')['AvgTemperature'].min()"
   ]
  },
  {
   "cell_type": "code",
   "execution_count": null,
   "id": "52bf1ec0",
   "metadata": {},
   "outputs": [],
   "source": []
  }
 ],
 "metadata": {
  "kernelspec": {
   "display_name": "Python 3 (ipykernel)",
   "language": "python",
   "name": "python3"
  },
  "language_info": {
   "codemirror_mode": {
    "name": "ipython",
    "version": 3
   },
   "file_extension": ".py",
   "mimetype": "text/x-python",
   "name": "python",
   "nbconvert_exporter": "python",
   "pygments_lexer": "ipython3",
   "version": "3.10.9"
  }
 },
 "nbformat": 4,
 "nbformat_minor": 5
}
